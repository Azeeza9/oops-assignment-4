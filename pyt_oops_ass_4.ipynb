{
  "nbformat": 4,
  "nbformat_minor": 0,
  "metadata": {
    "colab": {
      "provenance": []
    },
    "kernelspec": {
      "name": "python3",
      "display_name": "Python 3"
    },
    "language_info": {
      "name": "python"
    }
  },
  "cells": [
    {
      "cell_type": "markdown",
      "source": [
        "**THEORY QUESTIONS**\n"
      ],
      "metadata": {
        "id": "8zB6kb3uj063"
      }
    },
    {
      "cell_type": "markdown",
      "source": [
        "1)What is Object-Oriented Programming (OOP)?\n",
        "- Object Oriented Programming is a programming paradigm that organizes code by grouping related data and behaviors into objects.\n",
        "-It promotes code reusability."
      ],
      "metadata": {
        "id": "xgiabnodj_08"
      }
    },
    {
      "cell_type": "markdown",
      "source": [
        "2)What is a class in OOP?\n",
        "- A **class** is a template or blueprint for creating objects.\n",
        "- It defines the attributes(data) and methods(functions) the object will have.\n"
      ],
      "metadata": {
        "id": "Mxj7PGOesWpc"
      }
    },
    {
      "cell_type": "markdown",
      "source": [
        "3)What is an object in OOP?\n",
        "- An **object** is an instance of class.\n",
        "- Each object can have different values for its attributes.\n"
      ],
      "metadata": {
        "id": "HkKDCM1DsySz"
      }
    },
    {
      "cell_type": "markdown",
      "source": [
        "4)What is the difference between abstraction and encapsulation?\n",
        "- **Abstraction** hides complex implementation and shows only essential features.\n",
        "-it reduces code complexity on what an object does.\n",
        "- it is done using abstract classes.\n",
        "- **Encapsulation** bundles data and methods within one unit(class) and hides internal details, it hides data by restricting direct access and controlling it through methods.\n",
        "- It protects the internal state of an object and ensures data integrity.\n",
        "- it is done using access modifiers such as public,private,protected..\n"
      ],
      "metadata": {
        "id": "GWmQ3qTCtFrq"
      }
    },
    {
      "cell_type": "markdown",
      "source": [
        "5)What are dunder methods in Python?\n",
        "- **Dunder** Methods are also known as **magic** methods or **special** methods.In Python, dunder methods are special reserved methods that are surrounded by double underscores(i.e., _ _ _method_ _ _).\n",
        "- These methods allow you to define how instances of your classes behave when they are used with built-in Python functions or operators.\n",
        "- Dunder methods are crucial for creating custom objects that behave like built-in types or implementing operator overloading in python.\n",
        "-ex:init,str etc.......\n"
      ],
      "metadata": {
        "id": "ExJ0PjOtvVpb"
      }
    },
    {
      "cell_type": "markdown",
      "source": [
        "6)Explain the concept of inheritance in OOP?\n",
        "- **Inheritance** in python refers to the process of a child class receiving the parent class properties.\n",
        "-It helps in code reusability,instead of starting from scratch when developing a new class,we can use the existing class and no need to write the code from scratch.\n",
        "-There are different types of inheritance such as single,multiple,multi level,hierarchial,hybrid.\n",
        "-**Single** -in this we have one parent class and only one child class.\n",
        "-**Multiple** -in this we have more than one parent class and one child class.\n",
        "-**Multi-level** -in this we have one parent class and more than one child class.\n",
        "-**Hierarchical** -in this we have only one parent class and several child classes.\n",
        "-**Hybrid** - in this we can have a combination of two types of inheritances,such as single+multiple..\n"
      ],
      "metadata": {
        "id": "6SPo1zTx2Fvh"
      }
    },
    {
      "cell_type": "markdown",
      "source": [
        "7)What is polymorphism in OOP?\n",
        "- **Polymorphism** is the objects capacity to assume several forms.\n",
        "- It enables us to carry out a single avtivity in variety of ways.\n",
        "-In Greek words poly means many and morphism means forms,that is many forms.\n",
        "-Inheritance is the primary application of polymorphism and in Python polymorphism is achieved through method overloading and meyhod overriding.\n"
      ],
      "metadata": {
        "id": "hwCuph8d5Qj3"
      }
    },
    {
      "cell_type": "markdown",
      "source": [
        "8)How is encapsulation achieved in Python?\n",
        "- **Encapsulation** is a python technique for combining data and functions into a single object.\n",
        "- A class,for instance contains all the data(methods and variables).\n",
        "-Encapsulation provides a mechanism to hide the data and access the necesssary variable thus shielding the objects data from other objects.\n",
        "-There are three access modifiers that are used to obtain encapsulation,that is private,public and protected.\n",
        "-**Public-** It is accesible from anywhere inside the class and also outside the class;by default the class is public.\n",
        "-**Private-** It is accesible within the class.\n",
        "-**Protected-** It is accesible within the class and its subclasses.\n",
        "\n",
        "\n"
      ],
      "metadata": {
        "id": "8LI9H4zWR2Fa"
      }
    },
    {
      "cell_type": "markdown",
      "source": [
        "9)What is a constructor in Python?\n",
        "- **Constructor** is a particular method used to generate and initialise an object of a class.\n",
        "-When an object is created,the constructor runs automatically;Declaring and initialising a class instance and data member variables is the main function of the constructor.\n",
        "-An objects attributes is initialised by the constructor,which are collection of statements or instructions that run when an object is created.\n",
        "-There are three types of constructors Default,Parameterised and Non-Parametrised.\n",
        "-**Default Constructor-** when we forget to define or include a constructor in class,Python automatically adds a default constructor.\n",
        "-**Parameterised Constructor-** It is specified by arguments or parameters to provide different values by the programmer.\n",
        "-**Non-Parameterised Constructor-** It is not specified by arguments or parameters.\n"
      ],
      "metadata": {
        "id": "o1T4QcOgUkb_"
      }
    },
    {
      "cell_type": "markdown",
      "source": [
        "10)What are class and static methods in Python?\n",
        "- **Class Method**- It is used to access or alter the class state.\n",
        "-If we exclusively used class variables when implementing a method,we should declare the method as a class method.\n",
        "-**Static Method** It is a general utility method that handles a single task.\n",
        "-Since its static it doesn't have access to class attributes,we don't use instance or class variables within it."
      ],
      "metadata": {
        "id": "kmaodzjiZUm5"
      }
    },
    {
      "cell_type": "markdown",
      "source": [
        "11)What is method overloading in Python?\n",
        "- **Method Overloading-** It is the practice of invoking the same method more than once with different parameters.\n",
        "-It is not supported by python,even if ypu overload the method python only takes the method that is defined most recently.\n"
      ],
      "metadata": {
        "id": "LSLSQ2d8assn"
      }
    },
    {
      "cell_type": "markdown",
      "source": [
        "12)What is method overriding in OOP?\n",
        "- **Method Overriding**- It is the process of defining a different implementation for a method which is already defined in the superclass within the subclass.\n",
        "-The name,parameters, and return type of the overridden method in the sub class must match with the method in superclass.\n",
        "-When a method is overridden the subclass will be implemented rather than the superclass.\n"
      ],
      "metadata": {
        "id": "wcIqLRucb2_N"
      }
    },
    {
      "cell_type": "markdown",
      "source": [
        "13)What is a property decorator in Python?\n",
        "- **Property Decorators** allows methods to be accessed as attributes.\n",
        "-**Getter Method-** is used to call the method and return a specified value.\n",
        "-**Setter Method-** is used to assign values and change values in the code.\n",
        "-**Deleter Method-** is used to delete the specified values in the code.\n",
        "-Property Decorator allows us to modify the required attributes through the above methods.\n"
      ],
      "metadata": {
        "id": "i0edmB9AdwJm"
      }
    },
    {
      "cell_type": "markdown",
      "source": [
        "14)Why is polymorphism important in OOP?\n",
        "- Polymorphism is crucial in Object Oriented Programming as it enables us the following uses:\n",
        "- 1)Code Reusability and Reduced Redundancy.\n",
        "-2)Flexibility and Extensibility.\n",
        "-3)Abstraction.\n",
        "-4)Improved Code Organization.\n",
        "-5)Foundation of OOP.\n"
      ],
      "metadata": {
        "id": "QhM_88Ryqr3M"
      }
    },
    {
      "cell_type": "markdown",
      "source": [
        "15)What is an abstract class in Python?\n",
        "- Abstraction allows you to create abstract classes.\n",
        "-**Abstract Classes** cannot be instantiated and they should be sub classed.\n",
        "-They may contain abstract methods that are declared but not implemented in the abstract class itself;sub classes are incharge of implementing these abstract methods.\n",
        "-To declare the abstract class we first need to import the abc module.\n"
      ],
      "metadata": {
        "id": "G4aE6XVQwgYD"
      }
    },
    {
      "cell_type": "markdown",
      "source": [
        "16)What are the advantages of OOP?\n",
        "- There are several advantages of oops as it contains concepts of encapsulation,abstraction,polymorphism.They are:\n",
        "-1)Modularity.\n",
        "2)Reusability.\n",
        "3)Encapsulation.\n",
        "4)Inheritance.\n",
        "5)Polymorphism.\n",
        "6)Abstraction.\n",
        "7)Scalability.\n",
        "8)Easier Troubleshooting.\n"
      ],
      "metadata": {
        "id": "ZKRJGPqh1KLI"
      }
    },
    {
      "cell_type": "markdown",
      "source": [
        "17)What is the difference between a class variable and an instance variable?\n",
        "- **Class Variable:**A variable that is declared inside of a class but outside of any instance methods or init() methods is referred to as class variable.\n",
        "-**Instance Variable:**Instance variables are the properties that are joined to a class instance.In the constructor(class init() method),we define instance variable.\n",
        "\n"
      ],
      "metadata": {
        "id": "yLJojtNJ2e0U"
      }
    },
    {
      "cell_type": "markdown",
      "source": [
        "18)What is multiple inheritance in Python?\n",
        "- In **Multiple** **Inheritance** one child class may inherit the properties of several parent classes.\n",
        "-It allows classes to inherit and combine the behaviour of multiple parent classes,providing flexibility in designing complex class hierarchies.However,it's important to carefully design and potential complexities that can arise when using multiple inheritance.\n"
      ],
      "metadata": {
        "id": "SCgKWvp7_gq6"
      }
    },
    {
      "cell_type": "markdown",
      "source": [
        "19)Explain the purpose of ‘’__str__’ and ‘__repr__’ ‘ methods in Python?\n",
        "- \"str\" and \"repr\" both comes under Dunder Methods.\n",
        "-**\"str\"**- This method is called when the str() function is used on an instance of the class.\n",
        "-It should return the string representation of the object.\n",
        "-**\"repr\"**-This method is used when the repr() function is used on an instance of the class.\n",
        "-It should return an unambiguous string representation of the object,which can be used to recreate the object.\n"
      ],
      "metadata": {
        "id": "kgT2ftRLJBYB"
      }
    },
    {
      "cell_type": "markdown",
      "source": [
        "20)What is the significance of the ‘super()’ function in Python?\n",
        "- The super() function in python plays a significant role in inheritance.\n",
        "-Its primary role is to provide access to methods and properties of a parent or sibling class from within a child or subclass.\n",
        "-Key significances of super():\n",
        "-1)Method Overriding and Extension.\n",
        "-2)Proper Initialization in Inheritance.\n",
        "-3)Code Reusability and Maintainability.\n",
        "-4)Handling Multiple Inheritance.\n"
      ],
      "metadata": {
        "id": "MwbR4f4NKdF2"
      }
    },
    {
      "cell_type": "markdown",
      "source": [
        "21)What is the significance of the __del__ method in Python?\n",
        "- The __del__ method in Python, often referred to as a \"finalizer,\" is a special method that is called by the garbage collector just before an object is destroyed. Its primary significance lies in allowing objects to perform cleanup operations when they are no longer referenced and are about to be removed from memory.\n"
      ],
      "metadata": {
        "id": "F4EisQuhSCH4"
      }
    },
    {
      "cell_type": "markdown",
      "source": [
        "22)What is the difference between @staticmethod and @classmethod in Python?\n",
        "- The primary difference between @staticmethod and @classmethod in Python lies in their access to class and instance attributes:\n",
        "-**@classmethod:**\n",
        "Takes the class itself as its first argument, conventionally named cls.\n",
        "Can access and modify class-level attributes.\n",
        "Often used for alternative constructors or factory methods that return instances of the class, or for operations that affect the class as a whole.\n",
        "-**@staticmethod:**\n",
        "Does not take any special first argument (neither self nor cls).\n",
        "Cannot access or modify class-level attributes or instance attributes directly.\n",
        "Used for utility functions that are logically related to the class but do not require access to instance-specific or class-specific data. They are essentially regular functions placed within a class for organizational purposes."
      ],
      "metadata": {
        "id": "KdaqWNYiS4Lz"
      }
    },
    {
      "cell_type": "markdown",
      "source": [
        "23)How does polymorphism work in Python with inheritance?\n",
        "- Polymorphism in Python, particularly in conjunction with inheritance, primarily operates through method overriding.\n",
        "-**Inheritance:**\n",
        "A child (or derived) class inherits methods and attributes from its parent (or base) class. This establishes a \"is-a\" relationship, where the child class is a more specific type of the parent class.\n",
        "-**Method Overriding:**\n",
        "The core of polymorphism with inheritance lies in the ability of a child class to redefine a method that it inherited from its parent class. This redefinition uses the exact same method name and signature (parameters) as the parent's method."
      ],
      "metadata": {
        "id": "MZPC2eumT7rX"
      }
    },
    {
      "cell_type": "markdown",
      "source": [
        "24)What is method chaining in Python OOP?\n",
        "- **Method chaining** in Python Object-Oriented Programming (OOP) is a technique that allows for the sequential invocation of multiple methods on the same object within a single line of code. This is achieved by having each method in the chain return the object itself (typically self) after performing its operation.\n",
        "-**Method returns self:**\n",
        "For method chaining to work, each method intended for chaining must explicitly return self, which refers to the current instance of the object.\n",
        "-**Sequential calls:**\n",
        "When a method returns self, the subsequent method call in the chain operates on that same object instance. This creates a \"fluent\" interface where operations are applied one after another without requiring intermediate variables to store the object at each step.\n"
      ],
      "metadata": {
        "id": "IjuhybcWUdI_"
      }
    },
    {
      "cell_type": "markdown",
      "source": [
        "25)What is the purpose of the __call__ method in Python?\n",
        "- The __call__ method in Python allows instances of a class to be invoked or called as if they were regular functions. When this method is defined within a class, calling an object of that class (e.g., my_object()) automatically triggers the execution of the __call__ method.\n",
        "- __call__ is frequently used in implementing class-based decorators, where the decorator itself is an instance of a class that modifies the behavior of a function or method."
      ],
      "metadata": {
        "id": "eweIY5riVCnK"
      }
    },
    {
      "cell_type": "markdown",
      "source": [
        "**PRACTICAL QUESTIONS**"
      ],
      "metadata": {
        "id": "UtZYnpnNVfBq"
      }
    },
    {
      "cell_type": "code",
      "source": [
        "#1)1. Create a parent class Animal with a method speak() that prints a generic message. Create a child class Dog that overrides the speak() method to print \"Bark!\".\n",
        "class Animal:\n",
        "  def speak(self):\n",
        "    print(\"animal sounds\")\n",
        "class Dog(Animal):\n",
        "  def speak(self):\n",
        "    print(\"bark!\")\n",
        "a=Animal()\n",
        "a.speak() #animal sounds\n",
        "d=Dog()\n",
        "d.speak()"
      ],
      "metadata": {
        "colab": {
          "base_uri": "https://localhost:8080/"
        },
        "id": "Uw_WBXaeVjQL",
        "outputId": "62e1cde9-2016-4c05-b2ca-60f07937d69c"
      },
      "execution_count": null,
      "outputs": [
        {
          "output_type": "stream",
          "name": "stdout",
          "text": [
            "animal sounds\n",
            "bark!\n"
          ]
        }
      ]
    },
    {
      "cell_type": "code",
      "source": [
        "#2)Write a program to create an abstract class Shape with a method area(). Derive classes Circle and Rectangle from it and implement the area() method in both.\n",
        "from abc import ABC,abstractmethod\n",
        "import math\n",
        "class Shape(ABC):\n",
        "  @abstractmethod\n",
        "  def area(self):\n",
        "    pass\n",
        "\n",
        "class Circle(Shape):\n",
        "  def __init__(self,radius):\n",
        "    self.radius=radius\n",
        "  def area(self):\n",
        "    return math.pi*self.radius**2\n",
        "\n",
        "class Rectangle(Shape):\n",
        "  def __init__(self,length,width):\n",
        "    self.length=length\n",
        "    self.width=width\n",
        "  def area(self):\n",
        "    return self.length*self.width\n",
        "\n",
        "cir=Circle(4)\n",
        "rec=Rectangle(4,5)\n",
        "print(f\"the area of circle is:{cir.area()}\")\n",
        "print(f\"the area of rectangle is:{rec.area()}\")\n"
      ],
      "metadata": {
        "colab": {
          "base_uri": "https://localhost:8080/"
        },
        "id": "huuK-ZDcdpC1",
        "outputId": "58c090f9-6251-4022-e709-42a6c7280444"
      },
      "execution_count": null,
      "outputs": [
        {
          "output_type": "stream",
          "name": "stdout",
          "text": [
            "the area of circle is:50.26548245743669\n",
            "the area of rectangle is:20\n"
          ]
        }
      ]
    },
    {
      "cell_type": "code",
      "source": [
        "#3)Implement a multi-level inheritance scenario where a class Vehicle has an attribute type. Derive a class Car and further derive a class ElectricCar that adds a battery attribute.\n",
        "class Vehicle:\n",
        "    def __init__(self, vehicle_type):\n",
        "        self.type = vehicle_type\n",
        "\n",
        "    def display_type(self):\n",
        "        print(f\"Vehicle type: {self.type}\")\n",
        "\n",
        "class Car(Vehicle):\n",
        "    def __init__(self, vehicle_type, brand):\n",
        "        super().__init__(vehicle_type)\n",
        "        self.brand = brand\n",
        "\n",
        "    def display_brand(self):\n",
        "        print(f\"Car brand: {self.brand}\")\n",
        "\n",
        "class ElectricCar(Car):\n",
        "    def __init__(self, vehicle_type, brand, battery_capacity):\n",
        "        super().__init__(vehicle_type, brand)\n",
        "        self.battery = battery_capacity\n",
        "\n",
        "    def display_battery(self):\n",
        "        print(f\"Battery capacity: {self.battery} kWh\")\n",
        "\n",
        "car=Car(\"car\",\"bmw\")\n",
        "car.display_type()\n",
        "car.display_brand()\n",
        "elec_car=ElectricCar(\"electric car\",\"tesla\",75)\n",
        "elec_car.display_type()\n",
        "elec_car.display_brand()\n",
        "elec_car.display_battery()\n",
        "\n"
      ],
      "metadata": {
        "colab": {
          "base_uri": "https://localhost:8080/"
        },
        "id": "wI9KgLqtgG2E",
        "outputId": "c120c76c-5a7a-4d96-bc8f-03fcd6c6b1bc"
      },
      "execution_count": null,
      "outputs": [
        {
          "output_type": "stream",
          "name": "stdout",
          "text": [
            "Vehicle type: car\n",
            "Car brand: bmw\n",
            "Vehicle type: electric car\n",
            "Car brand: tesla\n",
            "Battery capacity: 75 kWh\n"
          ]
        }
      ]
    },
    {
      "cell_type": "code",
      "source": [
        "#4)Demonstrate polymorphism by creating a base class Bird with a method fly(). Create two derived classes Sparrow and Penguin that override the fly() method.\n",
        "class Bird:\n",
        "    def fly(self):\n",
        "        print(\"birds can fly\")\n",
        "\n",
        "class Sparrow(Bird):\n",
        "    def fly(self):\n",
        "        print(\"Sparrows can fly\")\n",
        "\n",
        "class Penguin(Bird):\n",
        "    def fly(self):\n",
        "        print(\"Penguins swim well\")\n",
        "\n",
        "bird=Bird()\n",
        "spa=Sparrow()\n",
        "pen=Penguin()\n",
        "bird.fly()\n",
        "spa.fly()\n",
        "pen.fly()\n"
      ],
      "metadata": {
        "colab": {
          "base_uri": "https://localhost:8080/"
        },
        "id": "QcjIoh0MoSK2",
        "outputId": "5280bb9e-d85e-4d44-c281-41f7f98d824f"
      },
      "execution_count": null,
      "outputs": [
        {
          "output_type": "stream",
          "name": "stdout",
          "text": [
            "birds can fly\n",
            "Sparrows can fly\n",
            "Penguins swim well\n"
          ]
        }
      ]
    },
    {
      "cell_type": "code",
      "source": [
        "#5)Write a program to demonstrate encapsulation by creating a class BankAccount with private attributes balance and methods to deposit, withdraw, and check balance.\n",
        "class BankAccount:\n",
        "    def __init__(self, initial_balance=0):\n",
        "        self.__balance = initial_balance\n",
        "\n",
        "\n",
        "    def deposit(self, amount):\n",
        "        if amount > 0:\n",
        "            self.__balance += amount\n",
        "            print(f\"Deposited: {amount}\")\n",
        "        else:\n",
        "            print(\"Deposit amount must be positive.\")\n",
        "\n",
        "\n",
        "    def withdraw(self, amount):\n",
        "        if 0 < amount <= self.__balance:\n",
        "            self.__balance -= amount\n",
        "            print(f\"Withdrawn: {amount}\")\n",
        "        else:\n",
        "            print(\"invalid amount\")\n",
        "\n",
        "\n",
        "    def check_balance(self):\n",
        "        print(f\"Current balance: {self.__balance}\")\n",
        "\n",
        "acc=BankAccount(1000)\n",
        "acc.deposit(500)\n",
        "acc.withdraw(200)\n",
        "acc.check_balance()\n"
      ],
      "metadata": {
        "colab": {
          "base_uri": "https://localhost:8080/"
        },
        "id": "eeVV2NMMRoaa",
        "outputId": "962d1a91-8c8c-45c7-c35f-6cb46d3b0c14"
      },
      "execution_count": null,
      "outputs": [
        {
          "output_type": "stream",
          "name": "stdout",
          "text": [
            "Deposited: 500\n",
            "Withdrawn: 200\n",
            "Current balance: 1300\n"
          ]
        }
      ]
    },
    {
      "cell_type": "code",
      "source": [
        "#6)Demonstrate runtime polymorphism using a method play() in a base class Instrument. Derive classes Guitar and Piano that implement their own version of play().\n",
        "class Instrument:\n",
        "    def play(self):\n",
        "        print(\"Instrument is playing\")\n",
        "\n",
        "class Guitar(Instrument):\n",
        "    def play(self):\n",
        "        print(\"Guitar is playing\")\n",
        "\n",
        "class Piano(Instrument):\n",
        "    def play(self):\n",
        "        print(\"Piano is playing\")\n",
        "\n",
        "ins=Instrument()\n",
        "gui=Guitar()\n",
        "pia=Piano()\n",
        "ins.play()\n",
        "gui.play()\n",
        "pia.play()"
      ],
      "metadata": {
        "colab": {
          "base_uri": "https://localhost:8080/"
        },
        "id": "4y4TrMsNTNwK",
        "outputId": "cdfcafb2-47ef-4edb-9ed3-02f5f607c67e"
      },
      "execution_count": null,
      "outputs": [
        {
          "output_type": "stream",
          "name": "stdout",
          "text": [
            "Instrument is playing\n",
            "Guitar is playing\n",
            "Piano is playing\n"
          ]
        }
      ]
    },
    {
      "cell_type": "code",
      "source": [
        "#7)Create a class MathOperations with a class method add_numbers() to add two numbers and a static method subtract_numbers() to subtract two numbers.\n",
        "class MathOperations:\n",
        "    @classmethod\n",
        "    def add_numbers(cls, a, b):\n",
        "        return a + b\n",
        "\n",
        "    @staticmethod\n",
        "    def subtract_numbers(a, b):\n",
        "        return a - b\n",
        "\n",
        "print(MathOperations.add_numbers(5, 3))\n",
        "print(MathOperations.subtract_numbers(10, 4))\n"
      ],
      "metadata": {
        "colab": {
          "base_uri": "https://localhost:8080/"
        },
        "id": "Qj41pLwcUe07",
        "outputId": "edfe62d7-5a75-454e-c894-b5a5e9fe6d83"
      },
      "execution_count": null,
      "outputs": [
        {
          "output_type": "stream",
          "name": "stdout",
          "text": [
            "8\n",
            "6\n"
          ]
        }
      ]
    },
    {
      "cell_type": "code",
      "source": [
        "#8)Implement a class Person with a class method to count the total number of persons created.\n",
        "class Person:\n",
        "    _count = 0\n",
        "\n",
        "    def __init__(self, name):\n",
        "        self.name = name\n",
        "        Person._count += 1\n",
        "\n",
        "    @classmethod\n",
        "    def get_count(cls):\n",
        "        return cls._count\n",
        "\n",
        "p1 = Person(\"vijay\")\n",
        "p2 = Person(\"rahul\")\n",
        "\n",
        "print(\"Total persons created:\", Person.get_count())\n"
      ],
      "metadata": {
        "colab": {
          "base_uri": "https://localhost:8080/"
        },
        "id": "dWzfNsi3Vdwi",
        "outputId": "313cb1c3-f93b-4094-95a9-a13ee91118e9"
      },
      "execution_count": null,
      "outputs": [
        {
          "output_type": "stream",
          "name": "stdout",
          "text": [
            "Total persons created: 2\n"
          ]
        }
      ]
    },
    {
      "cell_type": "code",
      "source": [
        "#9)Write a class Fraction with attributes numerator and denominator. Override the str method to display the fraction as \"numerator/denominator\".\n",
        "class Fraction:\n",
        "    def __init__(self, numerator, denominator):\n",
        "        self.numerator = numerator\n",
        "        self.denominator = denominator\n",
        "\n",
        "    def __str__(self):\n",
        "        return f\"{self.numerator}/{self.denominator}\"\n",
        "\n",
        "frac=Fraction(6,10)\n",
        "print(frac)"
      ],
      "metadata": {
        "colab": {
          "base_uri": "https://localhost:8080/"
        },
        "id": "0_VAEqj0XdNk",
        "outputId": "1f51c9ab-c789-4a56-cafb-c430ccf4bf66"
      },
      "execution_count": null,
      "outputs": [
        {
          "output_type": "stream",
          "name": "stdout",
          "text": [
            "6/10\n"
          ]
        }
      ]
    },
    {
      "cell_type": "code",
      "source": [
        "#10)Demonstrate operator overloading by creating a class Vector and overriding the add method to add two vectors\n",
        "class Vector:\n",
        "    def __init__(self, x, y):\n",
        "        self.x = x\n",
        "        self.y = y\n",
        "\n",
        "    def __add__(self, other):\n",
        "        return Vector(self.x + other.x, self.y + other.y)\n",
        "\n",
        "    def __repr__(self):\n",
        "        return f\"Vector({self.x}, {self.y})\"\n",
        "\n",
        "vec1=Vector(4,5)\n",
        "vec2=Vector(5,6)\n",
        "vec3=vec1+vec2\n",
        "print(\"v1=\",vec1)\n",
        "print(\"v2=\",vec2)\n",
        "print(\"v1+v2=\",vec3)"
      ],
      "metadata": {
        "colab": {
          "base_uri": "https://localhost:8080/"
        },
        "id": "T9iG2T4BZ3lT",
        "outputId": "1d5f1491-95d8-40ac-df7f-31d9dcdbac67"
      },
      "execution_count": null,
      "outputs": [
        {
          "output_type": "stream",
          "name": "stdout",
          "text": [
            "v1= Vector(4, 5)\n",
            "v2= Vector(5, 6)\n",
            "v1+v2= Vector(9, 11)\n"
          ]
        }
      ]
    },
    {
      "cell_type": "code",
      "source": [
        "#11. Create a class Person with attributes name and age. Add a method greet() that prints \"Hello, my name is {name} and I am {age} years old.\"\n",
        "class Person:\n",
        "    def __init__(self, name, age):\n",
        "        self.name = name\n",
        "        self.age = age\n",
        "\n",
        "    def greet(self):\n",
        "        print(f\"Hello, my name is {self.name} and I am {self.age} years old.\")\n",
        "\n",
        "person1 = Person(\"Tina\", 25)\n",
        "person1.greet()\n"
      ],
      "metadata": {
        "colab": {
          "base_uri": "https://localhost:8080/"
        },
        "id": "y4cUVaJUcCwd",
        "outputId": "de3c82b3-ede9-47fd-c20b-32e579963da7"
      },
      "execution_count": null,
      "outputs": [
        {
          "output_type": "stream",
          "name": "stdout",
          "text": [
            "Hello, my name is Tina and I am 25 years old.\n"
          ]
        }
      ]
    },
    {
      "cell_type": "code",
      "source": [
        "#12. Implement a class Student with attributes name and grades. Create a method average_grade() to compute the average of the grades.\n",
        "class Student:\n",
        "    def __init__(self, name, grades):\n",
        "      self.name = name\n",
        "      self.grades = grades\n",
        "\n",
        "    def avg_grade(self):\n",
        "        return sum(self.grades) / len(self.grades)\n",
        "\n",
        "\n",
        "stud1 = Student(\"Sara\", [85, 90, 78, 95,97])\n",
        "print(f\"{stud1.name}'s average grade is : {stud1.avg_grade():.2f}\")\n"
      ],
      "metadata": {
        "colab": {
          "base_uri": "https://localhost:8080/"
        },
        "id": "gTFecod7crNn",
        "outputId": "354d7158-99ea-439c-deb6-a5a8a8689085"
      },
      "execution_count": null,
      "outputs": [
        {
          "output_type": "stream",
          "name": "stdout",
          "text": [
            "Sara's average grade is : 89.00\n"
          ]
        }
      ]
    },
    {
      "cell_type": "code",
      "source": [
        "#13)Create a class Rectangle with methods set_dimensions() to set the dimensions and area() to calculate the area.\n",
        "class Rectangle:\n",
        "    def __init__(self):\n",
        "        self.length = 0\n",
        "        self.width = 0\n",
        "\n",
        "    def set_dimensions(self, length, width):\n",
        "        self.length = length\n",
        "        self.width = width\n",
        "\n",
        "    def area(self):\n",
        "        return self.length * self.width\n",
        "\n",
        "rec= Rectangle()\n",
        "\n",
        "rec.set_dimensions(4, 6)\n",
        "\n",
        "area=rec.area()\n",
        "print(\"Area of rectangle is:\",area)"
      ],
      "metadata": {
        "colab": {
          "base_uri": "https://localhost:8080/"
        },
        "id": "ilK_PrtXgQje",
        "outputId": "ece71c75-38f6-47d7-edc0-1a42d71aff7c"
      },
      "execution_count": null,
      "outputs": [
        {
          "output_type": "stream",
          "name": "stdout",
          "text": [
            "Area of rectangle is: 24\n"
          ]
        }
      ]
    },
    {
      "cell_type": "code",
      "source": [
        "#14)Create a class Employee with a method calculate_salary() that computes the salary based on hours worked and hourly rate. Create a derived class Manager that adds a bonus to the salary.\n",
        "\n",
        "class Employee:\n",
        "    def __init__(self, hours_worked, hourly_rate):\n",
        "        self.hours_worked = hours_worked\n",
        "        self.hourly_rate = hourly_rate\n",
        "\n",
        "    def calculate_salary(self):\n",
        "        return self.hours_worked * self.hourly_rate\n",
        "\n",
        "\n",
        "class Manager(Employee):\n",
        "    def __init__(self, hours_worked, hourly_rate, bonus):\n",
        "        super().__init__(hours_worked, hourly_rate)\n",
        "        self.bonus = bonus\n",
        "\n",
        "    def calculate_salary(self):\n",
        "        base_salary = super().calculate_salary()\n",
        "        return base_salary + self.bonus\n",
        "\n",
        "\n",
        "emp = Employee(50, 20)\n",
        "print(\"Employee Salary:\", emp.calculate_salary())\n",
        "\n",
        "mgr = Manager(40, 50, 500)\n",
        "print(\"Manager Salary:\", mgr.calculate_salary())\n"
      ],
      "metadata": {
        "colab": {
          "base_uri": "https://localhost:8080/"
        },
        "id": "wdoIe6ZWjD4F",
        "outputId": "c8dfaa61-0e94-4354-c3bc-7a53ee269edc"
      },
      "execution_count": null,
      "outputs": [
        {
          "output_type": "stream",
          "name": "stdout",
          "text": [
            "Employee Salary: 1000\n",
            "Manager Salary: 2500\n"
          ]
        }
      ]
    },
    {
      "cell_type": "code",
      "source": [
        "#15)Create a class Product with attributes name, price, and quantity. Implement a method total_price() that calculates the total price of the product.\n",
        "class Product:\n",
        "    def __init__(self, name, price, quantity):\n",
        "        self.name = name\n",
        "        self.price = price\n",
        "        self.quantity = quantity\n",
        "\n",
        "    def total_price(self):\n",
        "        return self.price * self.quantity\n",
        "\n",
        "prod1 = Product(\"Laptop\", 100000, 5)\n",
        "print(f\"Total price for {prod1.name} is :{prod1.total_price()}\")\n",
        "\n"
      ],
      "metadata": {
        "colab": {
          "base_uri": "https://localhost:8080/"
        },
        "id": "5l6eBfNxkD2D",
        "outputId": "54b349e1-7a8a-4620-9e27-33ea19793c36"
      },
      "execution_count": null,
      "outputs": [
        {
          "output_type": "stream",
          "name": "stdout",
          "text": [
            "Total price for Laptop is :500000\n"
          ]
        }
      ]
    },
    {
      "cell_type": "code",
      "source": [
        "#16)Create a class Animal with an abstract method sound(). Create two derived classes Cow and Sheep that implement the sound() method.\n",
        "from abc import ABC, abstractmethod\n",
        "\n",
        "class Animal(ABC):\n",
        "    @abstractmethod\n",
        "    def sound(self):\n",
        "        pass\n",
        "\n",
        "class Cow(Animal):\n",
        "    def sound(self):\n",
        "        return \"Moo\"\n",
        "\n",
        "class Sheep(Animal):\n",
        "    def sound(self):\n",
        "        return \"Baa\"\n",
        "\n",
        "c=Cow()\n",
        "s=Sheep()\n",
        "\n",
        "print(\"Cow sound:\", c.sound())\n",
        "print(\"Sheep sound:\",s.sound())\n"
      ],
      "metadata": {
        "colab": {
          "base_uri": "https://localhost:8080/"
        },
        "id": "EsDR1lPCk3T5",
        "outputId": "6e41b94f-b792-4e9f-dfca-b445cc719cf5"
      },
      "execution_count": null,
      "outputs": [
        {
          "output_type": "stream",
          "name": "stdout",
          "text": [
            "Cow sound: Moo\n",
            "Sheep sound: Baa\n"
          ]
        }
      ]
    },
    {
      "cell_type": "code",
      "source": [
        "#17)Create a class Book with attributes title, author, and year_published. Add a method get_book_info() that returns a formatted string with the book's details.\n",
        "class Book:\n",
        "    def __init__(self, title, author, year_published):\n",
        "        self.title = title\n",
        "        self.author = author\n",
        "        self.year_published = year_published\n",
        "\n",
        "    def get_book_info(self):\n",
        "        return f\"'{self.title}' by {self.author}, published in {self.year_published}.\"\n",
        "\n",
        "bk= Book(\"Pride and Prejudice\", \"Jane Austen\", 1813)\n",
        "print(bk.get_book_info())\n"
      ],
      "metadata": {
        "colab": {
          "base_uri": "https://localhost:8080/"
        },
        "id": "8Neuno5Jl26b",
        "outputId": "42d1e849-db2d-4352-bc90-6689ad8369c5"
      },
      "execution_count": null,
      "outputs": [
        {
          "output_type": "stream",
          "name": "stdout",
          "text": [
            "'Pride and Prejudice' by Jane Austen, published in 1813.\n"
          ]
        }
      ]
    },
    {
      "cell_type": "code",
      "source": [
        "#18)Create a class House with attributes address and price. Create a derived class Mansion that adds an attribute number_of_rooms.\n",
        "class House:\n",
        "    def __init__(self, address, price):\n",
        "        self.address = address\n",
        "        self.price = price\n",
        "\n",
        "    def display_info(self):\n",
        "        print(f\"Address: {self.address}\")\n",
        "        print(f\"Price: {self.price}\")\n",
        "\n",
        "class Mansion(House):\n",
        "    def __init__(self, address, price, number_of_rooms):\n",
        "        super().__init__(address, price)\n",
        "        self.number_of_rooms = number_of_rooms\n",
        "\n",
        "    def display_info(self):\n",
        "        super().display_info()\n",
        "        print(f\"Number of Rooms: {self.number_of_rooms}\")\n",
        "\n",
        "\n",
        "man = Mansion(\"james street\", 5000010,5)\n",
        "man.display_info()\n"
      ],
      "metadata": {
        "colab": {
          "base_uri": "https://localhost:8080/"
        },
        "id": "gvQwj1fRnX82",
        "outputId": "69320461-38ba-40b1-ebc8-a5b49cc4401c"
      },
      "execution_count": null,
      "outputs": [
        {
          "output_type": "stream",
          "name": "stdout",
          "text": [
            "Address: james street\n",
            "Price: 5000010\n",
            "Number of Rooms: 5\n"
          ]
        }
      ]
    }
  ]
}